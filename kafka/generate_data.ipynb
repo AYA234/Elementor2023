{
 "cells": [
  {
   "cell_type": "code",
   "execution_count": 38,
   "id": "c3dea9cf",
   "metadata": {},
   "outputs": [
    {
     "name": "stdout",
     "output_type": "stream",
     "text": [
      "Fake data has been exported to fake_data.json.\n"
     ]
    }
   ],
   "source": []
  },
  {
   "cell_type": "code",
   "execution_count": 39,
   "id": "5cf4c2af",
   "metadata": {},
   "outputs": [
    {
     "name": "stdout",
     "output_type": "stream",
     "text": [
      "Fake users has been exported to fake_users.json.\n"
     ]
    }
   ],
   "source": [
    "#generate_fake_sites\n",
    "\n",
    "import random\n",
    "import uuid\n",
    "import time\n",
    "import json\n",
    "from faker import Faker\n",
    "\n",
    "faker=Faker()\n",
    "\n",
    "\n",
    "def generate_fake_data():\n",
    "    user_id = str(uuid.uuid4())\n",
    "    first_name=faker.first_name()\n",
    "    last_name=faker.last_name()\n",
    "    address=faker.address()\n",
    "    email=faker.email()\n",
    "    phone_number=faker.phone_number()\n",
    "   \n",
    "    user={}\n",
    "    data = {\n",
    "        \"user_id\": user_id,\n",
    "        \"first_name\": first_name,\n",
    "        \"last_name\": last_name,\n",
    "        \"address\":address,\n",
    "        \"email\":email,\n",
    "        \"phone_number\":phone_number\n",
    "     }\n",
    "    return data\n",
    "users_list=[]\n",
    "def generate_fake_users():\n",
    "    data = []\n",
    "    for _ in range(1000): \n",
    "        fake_user = generate_fake_data()\n",
    "        data.append(fake_user)\n",
    "        users_list.append(fake_user['user_id'])\n",
    "    return data\n",
    "\n",
    "\n",
    "## Generate fake data for half a year (182.5 days)\n",
    "\n",
    "fake_users_list = generate_fake_users()\n",
    "\n",
    "## Define the JSON file path\n",
    "\n",
    "json_file = \"fake_users.json\"\n",
    "\n",
    "## Write the fake data to the JSON file\n",
    "\n",
    "with open(json_file, \"w\") as file:\n",
    "    json.dump(fake_users_list, file)\n",
    "print(f\"Fake users has been exported to {json_file}.\")\n",
    "##############################\n"
   ]
  },
  {
   "cell_type": "code",
   "execution_count": 47,
   "id": "985c19b7",
   "metadata": {},
   "outputs": [
    {
     "name": "stdout",
     "output_type": "stream",
     "text": [
      "Fake sites has been exported to fake_site.json.\n"
     ]
    }
   ],
   "source": [
    "#generate_fake_sites\n",
    "\n",
    "import random\n",
    "import uuid\n",
    "import time\n",
    "import json\n",
    "from faker import Faker\n",
    "\n",
    "faker=Faker()\n",
    "\n",
    "\n",
    "def generate_fake_data():\n",
    "    site_id = str(uuid.uuid4())\n",
    "    user_id=random.choice(users_list)\n",
    "   \n",
    "    user={}\n",
    "    data = {\n",
    "        \"site_id\": site_id,\n",
    "        \"user_id\": user_id\n",
    "     }\n",
    "    return data\n",
    "sites_list=[]\n",
    "def generate_fake_sites():\n",
    "    data = []\n",
    "    for _ in range(5000): \n",
    "        fake_site = generate_fake_data()\n",
    "        data.append(fake_site)\n",
    "        sites_list.append(fake_site['site_id'])\n",
    "    return data\n",
    "\n",
    "# Generate fake data for half a year (182.5 days)\n",
    "fake_sites_list = generate_fake_sites()\n",
    "\n",
    "# Define the JSON file path\n",
    "json_file = \"fake_site.json\"\n",
    "\n",
    "# Write the fake data to the JSON file\n",
    "with open(json_file, \"w\") as file:\n",
    "    json.dump(fake_sites_list, file)\n",
    "\n",
    "print(f\"Fake sites has been exported to {json_file}.\")\n",
    "\n",
    "def get_site_list():\n",
    "    return sites_list"
   ]
  },
  {
   "cell_type": "code",
   "execution_count": 49,
   "id": "ce54cdca",
   "metadata": {},
   "outputs": [
    {
     "name": "stdout",
     "output_type": "stream",
     "text": [
      "Fake metrics has been exported to fake_metrics.json.\n"
     ]
    }
   ],
   "source": [
    "import random\n",
    "import uuid\n",
    "import time\n",
    "import json\n",
    "\n",
    "sites_list=get_site_list()\n",
    "def generate_fake_metrics():\n",
    "    event_uuid = str(uuid.uuid4())\n",
    "    event_time = int(time.time())\n",
    "    site_id =random.choice(sites_list)\n",
    "\n",
    "  \n",
    "    metrics = {}\n",
    "    \n",
    "    # Add optional metrics fields with a 50% chance for each field\n",
    "    if random.random() < 0.5:\n",
    "        metrics[\"storage_gb\"] = random.randint(1, 100)\n",
    "    if random.random() < 0.5:\n",
    "        metrics[\"disc_cache\"] = random.randint(1, 100)\n",
    "    if random.random() < 0.5:\n",
    "        metrics[\"disc_a_gb\"] = random.randint(1, 100)\n",
    "    if random.random() < 0.5:\n",
    "        metrics[\"disc_b_gb\"] = random.randint(1, 100)\n",
    "    if random.random() < 0.5:\n",
    "        metrics[\"cpu_percent\"] = random.randint(1, 100)\n",
    "    if random.random() < 0.5:\n",
    "        metrics[\"cpu_tic\"] = random.randint(1, 100)\n",
    "    \n",
    "    data = {\n",
    "        \"event_uuid\": event_uuid,\n",
    "        \"event_time\": event_time,\n",
    "        \"identifier\": {\n",
    "            \"site_id\": site_id\n",
    "        },\n",
    "        \"metrics\": metrics\n",
    "    }\n",
    "    \n",
    "    return data\n",
    "\n",
    "def generate_fake_metrics_for_half_year():\n",
    "    data = []\n",
    "    start_time = int(time.time()) - int(182.5 * 24 * 60 * 60)  # Half a year in seconds\n",
    "\n",
    "    for _ in range(int(182.5 * 5000)):  # Generate data for each hour of half a year\n",
    "        fake_metrics = generate_fake_metrics()\n",
    "        fake_metrics[\"event_time\"] = start_time\n",
    "        data.append(fake_metrics)\n",
    "        start_time += 60 * 60  # Increment time by 1 hour\n",
    "\n",
    "    return data\n",
    "\n",
    "# Generate fake data for half a year (182.5 days)\n",
    "fake_metrics_list = generate_fake_metrics_for_half_year()\n",
    "\n",
    "# Define the JSON file path\n",
    "json_file = \"fake_metrics.json\"\n",
    "\n",
    "# Write the fake data to the JSON file\n",
    "with open(json_file, \"w\") as file:\n",
    "    json.dump(fake_metrics_list, file)\n",
    "\n",
    "print(f\"Fake metrics has been exported to {json_file}.\")\n"
   ]
  },
  {
   "cell_type": "code",
   "execution_count": null,
   "id": "0e957713",
   "metadata": {},
   "outputs": [],
   "source": []
  }
 ],
 "metadata": {
  "kernelspec": {
   "display_name": "Python 3 (ipykernel)",
   "language": "python",
   "name": "python3"
  },
  "language_info": {
   "codemirror_mode": {
    "name": "ipython",
    "version": 3
   },
   "file_extension": ".py",
   "mimetype": "text/x-python",
   "name": "python",
   "nbconvert_exporter": "python",
   "pygments_lexer": "ipython3",
   "version": "3.10.4"
  }
 },
 "nbformat": 4,
 "nbformat_minor": 5
}
