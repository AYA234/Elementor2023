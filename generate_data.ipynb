{
 "cells": [
  {
   "cell_type": "code",
   "execution_count": 4,
   "id": "c3dea9cf",
   "metadata": {},
   "outputs": [
    {
     "name": "stdout",
     "output_type": "stream",
     "text": [
      "Fake data has been exported to fake_data.json.\n"
     ]
    }
   ],
   "source": [
    "import random\n",
    "import uuid\n",
    "import time\n",
    "import json\n",
    "\n",
    "def generate_fake_data():\n",
    "    event_uuid = str(uuid.uuid4())\n",
    "    event_time = int(time.time())\n",
    "    site_id = random.randint(1, 5000)\n",
    "    \n",
    "    metrics = {}\n",
    "    \n",
    "    # Add optional metrics fields with a 50% chance for each field\n",
    "    if random.random() < 0.5:\n",
    "        metrics[\"storage_gb\"] = random.randint(1, 100)\n",
    "    if random.random() < 0.5:\n",
    "        metrics[\"disc_cache\"] = random.randint(1, 100)\n",
    "    if random.random() < 0.5:\n",
    "        metrics[\"disc_a_gb\"] = random.randint(1, 100)\n",
    "    if random.random() < 0.5:\n",
    "        metrics[\"disc_b_gb\"] = random.randint(1, 100)\n",
    "    if random.random() < 0.5:\n",
    "        metrics[\"cpu_percent\"] = random.randint(1, 100)\n",
    "    if random.random() < 0.5:\n",
    "        metrics[\"cpu_tic\"] = random.randint(1, 100)\n",
    "    \n",
    "    data = {\n",
    "        \"event_uuid\": event_uuid,\n",
    "        \"event_time\": event_time,\n",
    "        \"identifier\": {\n",
    "            \"site_id\": site_id\n",
    "        },\n",
    "        \"metrics\": metrics\n",
    "    }\n",
    "    \n",
    "    return data\n",
    "\n",
    "def generate_fake_data_for_half_year():\n",
    "    data = []\n",
    "    start_time = int(time.time()) - int(182.5 * 24 * 60 * 60)  # Half a year in seconds\n",
    "\n",
    "    for _ in range(int(182.5 * 5000)):  # Generate data for each hour of half a year\n",
    "        fake_data = generate_fake_data()\n",
    "        fake_data[\"event_time\"] = start_time\n",
    "        data.append(fake_data)\n",
    "        start_time += 60 * 60  # Increment time by 1 hour\n",
    "\n",
    "    return data\n",
    "\n",
    "# Generate fake data for half a year (182.5 days)\n",
    "fake_data_list = generate_fake_data_for_half_year()\n",
    "\n",
    "# Define the JSON file path\n",
    "json_file = \"fake_data.json\"\n",
    "\n",
    "# Write the fake data to the JSON file\n",
    "with open(json_file, \"w\") as file:\n",
    "    json.dump(fake_data_list, file)\n",
    "\n",
    "print(f\"Fake data has been exported to {json_file}.\")\n"
   ]
  }
 ],
 "metadata": {
  "kernelspec": {
   "display_name": "Python 3 (ipykernel)",
   "language": "python",
   "name": "python3"
  },
  "language_info": {
   "codemirror_mode": {
    "name": "ipython",
    "version": 3
   },
   "file_extension": ".py",
   "mimetype": "text/x-python",
   "name": "python",
   "nbconvert_exporter": "python",
   "pygments_lexer": "ipython3",
   "version": "3.10.4"
  }
 },
 "nbformat": 4,
 "nbformat_minor": 5
}
